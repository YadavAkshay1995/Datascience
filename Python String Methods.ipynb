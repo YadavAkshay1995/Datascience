{
 "cells": [
  {
   "cell_type": "markdown",
   "id": "41e5000b",
   "metadata": {},
   "source": [
    "# Python String Methods"
   ]
  },
  {
   "cell_type": "code",
   "execution_count": 10,
   "id": "1db20a06",
   "metadata": {},
   "outputs": [
    {
     "name": "stdout",
     "output_type": "stream",
     "text": [
      "Old String: god is great.\n",
      "Capitalized String: God is great.\n"
     ]
    }
   ],
   "source": [
    "#Capitalize--the capitalize() method converts first character of a string to uppercase letter and lowercases all other characters\n",
    "\n",
    "String=\"god is great.\"\n",
    "capitalized_String=String.capitalize()\n",
    "\n",
    "print(\"Old String:\", String)\n",
    "print(\"Capitalized String:\", capitalized_String)"
   ]
  },
  {
   "cell_type": "code",
   "execution_count": 14,
   "id": "3da97b96",
   "metadata": {},
   "outputs": [
    {
     "name": "stdout",
     "output_type": "stream",
     "text": [
      "Centered String:   Akshay is a good boy   \n"
     ]
    }
   ],
   "source": [
    "#Center\n",
    "String=\"  Akshay is a good boy   \"\n",
    "New_String=String.center(24)\n",
    "print(\"Centered String:\", String)"
   ]
  },
  {
   "cell_type": "code",
   "execution_count": 15,
   "id": "623d7e92",
   "metadata": {},
   "outputs": [
    {
     "name": "stdout",
     "output_type": "stream",
     "text": [
      "Lowercase String: ice is cool\n"
     ]
    }
   ],
   "source": [
    "#CaseFold---The casefold() method is an aggressive lower() method which converts strings to case folded strings for caseless matching.\n",
    "String=\"ICE IS COOL\"\n",
    "\n",
    "print(\"Lowercase String:\",String.casefold())\n"
   ]
  },
  {
   "cell_type": "code",
   "execution_count": 22,
   "id": "28c966ea",
   "metadata": {},
   "outputs": [
    {
     "name": "stdout",
     "output_type": "stream",
     "text": [
      "Number of occurence of p: 4\n"
     ]
    }
   ],
   "source": [
    "#String Count\n",
    "Program= \"python is popular programming language \"\n",
    "print(\"Number of occurence of p:\",Program.count(\"p\"))"
   ]
  },
  {
   "cell_type": "code",
   "execution_count": 26,
   "id": "395f0097",
   "metadata": {},
   "outputs": [
    {
     "name": "stdout",
     "output_type": "stream",
     "text": [
      "False\n",
      "True\n"
     ]
    }
   ],
   "source": [
    "#Python string ends with()\n",
    "string=\"Python is programming language.\"\n",
    "print(string.endswith(\"language\"))\n",
    "\n",
    "string=\"Python is programming language.\"\n",
    "print(string.endswith(\"language.\"))"
   ]
  },
  {
   "cell_type": "code",
   "execution_count": 33,
   "id": "2c681270",
   "metadata": {},
   "outputs": [
    {
     "name": "stdout",
     "output_type": "stream",
     "text": [
      "Original String: vat\t993039\ttax\n",
      "tabsize 5: vat  993039    tax\n"
     ]
    }
   ],
   "source": [
    "#Pythone expand tabs ---returns a string where all '\\t' characters are replaced with whitespace characters\n",
    "string=\"vat\\t993039\\ttax\"\n",
    "print(\"Original String:\",string)\n",
    "print(\"tabsize 5:\",string.expandtabs(5))"
   ]
  },
  {
   "cell_type": "code",
   "execution_count": 34,
   "id": "f4ee623c",
   "metadata": {},
   "outputs": [
    {
     "name": "stdout",
     "output_type": "stream",
     "text": [
      "b'Cricket is a game'\n"
     ]
    }
   ],
   "source": [
    "#Encode--For efficient storage of these strings, the sequence of code points is converted into a set of bytes. The process is known as encoding.\n",
    "Main=\"Cricket is a game\"\n",
    "print(Main.encode())"
   ]
  },
  {
   "cell_type": "code",
   "execution_count": 37,
   "id": "7a0022bc",
   "metadata": {},
   "outputs": [
    {
     "name": "stdout",
     "output_type": "stream",
     "text": [
      "9\n"
     ]
    }
   ],
   "source": [
    "#Python string find---\n",
    "Text=\"IPL is a fixing game\"\n",
    "print(Text.find(\"fixing\"))"
   ]
  },
  {
   "cell_type": "code",
   "execution_count": 40,
   "id": "ea9ed3fd",
   "metadata": {},
   "outputs": [
    {
     "name": "stdout",
     "output_type": "stream",
     "text": [
      "10\n"
     ]
    }
   ],
   "source": [
    "#Python indexing\n",
    "Text=\"Lenovo is the preferable brand for buying laptop\"\n",
    "result=Text.index(\"the\")\n",
    "print(result)"
   ]
  },
  {
   "cell_type": "code",
   "execution_count": 41,
   "id": "1cb3364a",
   "metadata": {},
   "outputs": [
    {
     "name": "stdout",
     "output_type": "stream",
     "text": [
      "True\n"
     ]
    }
   ],
   "source": [
    "#Python isdecimal--The isdecimal() method returns True if all characters in a string are decimal characters. If not, it returns False.\n",
    "Text=\"2569856\"\n",
    "print(Text.isdecimal())"
   ]
  },
  {
   "cell_type": "code",
   "execution_count": 43,
   "id": "6300ee44",
   "metadata": {},
   "outputs": [
    {
     "name": "stdout",
     "output_type": "stream",
     "text": [
      "True\n",
      "False\n"
     ]
    }
   ],
   "source": [
    "#python string is digit\n",
    "Num=\"5698745\"\n",
    "print(Num.isdigit())\n",
    "\n",
    "Text=\"Love for python\"\n",
    "print(Text.isdigit())"
   ]
  },
  {
   "cell_type": "code",
   "execution_count": 46,
   "id": "1d8882c4",
   "metadata": {},
   "outputs": [
    {
     "name": "stdout",
     "output_type": "stream",
     "text": [
      "True\n",
      "False\n"
     ]
    }
   ],
   "source": [
    "#String identifier---The isidentifier() method returns True if the string is a valid identifier in Python. If not, it returns False.\n",
    "Str=\"Programming\"\n",
    "print(Str.isidentifier())\n",
    "\n",
    "Str=\"Pr ogramming\"\n",
    "print(Str.isidentifier())"
   ]
  },
  {
   "cell_type": "code",
   "execution_count": 48,
   "id": "cb408498",
   "metadata": {},
   "outputs": [
    {
     "name": "stdout",
     "output_type": "stream",
     "text": [
      "False\n",
      "True\n"
     ]
    }
   ],
   "source": [
    "#String islowercase--returns True if all alphabets in a string are lowercase alphabets. If the string contains at least one uppercase alphabet, it returns False\n",
    "Str=\"Akshay is a good boy\"\n",
    "print(Str.islower())\n",
    "\n",
    "Str=\"akshay is a good boy\"\n",
    "print(Str.islower())"
   ]
  },
  {
   "cell_type": "code",
   "execution_count": 50,
   "id": "b6e1899b",
   "metadata": {},
   "outputs": [
    {
     "name": "stdout",
     "output_type": "stream",
     "text": [
      "True\n",
      "False\n"
     ]
    }
   ],
   "source": [
    "#String is numeric--returns True if all characters in a string are numeric characters. If not, it returns False.\n",
    "Num=\"993039\"\n",
    "print(Num.isnumeric())\n",
    "\n",
    "Num=\"993039STR\"\n",
    "print(Num.isnumeric())"
   ]
  },
  {
   "cell_type": "code",
   "execution_count": 63,
   "id": "2ab875ef",
   "metadata": {},
   "outputs": [
    {
     "name": "stdout",
     "output_type": "stream",
     "text": [
      "True\n",
      "False\n"
     ]
    }
   ],
   "source": [
    "#String printable\n",
    "Str=\"Love is blind\"\n",
    "print(Str.isprintable())\n",
    "\n",
    "ptr=\" \\tkLove is blind \"\n",
    "print(ptr.isprintable())"
   ]
  },
  {
   "cell_type": "code",
   "execution_count": 67,
   "id": "5c94b953",
   "metadata": {},
   "outputs": [
    {
     "name": "stdout",
     "output_type": "stream",
     "text": [
      "False\n",
      "True\n"
     ]
    }
   ],
   "source": [
    " #String isspace()-- method returns True if there are only whitespace characters in the string. If not, it return False.\n",
    " \n",
    "Text=\" b \"\n",
    "print(Text.isspace())\n",
    "\n",
    "text=\" \\t \"\n",
    "print(text.isspace())"
   ]
  },
  {
   "cell_type": "code",
   "execution_count": 69,
   "id": "54669c2c",
   "metadata": {},
   "outputs": [
    {
     "name": "stdout",
     "output_type": "stream",
     "text": [
      "True\n",
      "False\n"
     ]
    }
   ],
   "source": [
    "#String istitle()--- returns True if the string is a titlecased string. If not, it returns False.\n",
    "Text=\"Love Is Blind\"\n",
    "print(Text.istitle())\n",
    "\n",
    "text=\"Love is Blind\"\n",
    "print(text.istitle())"
   ]
  },
  {
   "cell_type": "code",
   "execution_count": 71,
   "id": "c147bd0f",
   "metadata": {},
   "outputs": [
    {
     "name": "stdout",
     "output_type": "stream",
     "text": [
      "True\n",
      "False\n"
     ]
    }
   ],
   "source": [
    "#string isupper()-- method returns whether or not all characters in a string are uppercased or not.\n",
    "P=\"GOD IS GREAT\"\n",
    "print(P.isupper())\n",
    "\n",
    "q=\"GOd iS GREAT\"\n",
    "print(q.isupper())"
   ]
  },
  {
   "cell_type": "code",
   "execution_count": 73,
   "id": "19c5ca76",
   "metadata": {},
   "outputs": [
    {
     "name": "stdout",
     "output_type": "stream",
     "text": [
      "War destroys the infrastructure life & ecosystem\n"
     ]
    }
   ],
   "source": [
    "#join string--- method returns a string by joining all the elements of an iterable (list, string, tuple), separated by a string separator.\n",
    "P=\"War\",\"destroys\",\"the\",\"infrastructure\",\"life\",\"&\",\"ecosystem\"\n",
    "print(\" \".join(P))"
   ]
  },
  {
   "cell_type": "code",
   "execution_count": null,
   "id": "dcd2e3a9",
   "metadata": {},
   "outputs": [],
   "source": [
    "# Replace\n",
    "\n",
    "Cricket=\"Bat Ball Stumps\"\n",
    "\n",
    "#Replace a with o\n",
    "\n",
    "replaced_Cricket=Cricket.replace(\"a\",\"o\")\n",
    "print(replaced_Cricket)"
   ]
  }
 ],
 "metadata": {
  "kernelspec": {
   "display_name": "Python 3 (ipykernel)",
   "language": "python",
   "name": "python3"
  },
  "language_info": {
   "codemirror_mode": {
    "name": "ipython",
    "version": 3
   },
   "file_extension": ".py",
   "mimetype": "text/x-python",
   "name": "python",
   "nbconvert_exporter": "python",
   "pygments_lexer": "ipython3",
   "version": "3.9.12"
  }
 },
 "nbformat": 4,
 "nbformat_minor": 5
}
